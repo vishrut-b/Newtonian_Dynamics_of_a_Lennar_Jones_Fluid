{
 "cells": [
  {
   "cell_type": "code",
   "execution_count": 2,
   "metadata": {
    "executionInfo": {
     "elapsed": 4,
     "status": "ok",
     "timestamp": 1645012438311,
     "user": {
      "displayName": "Abhinav Gupta",
      "photoUrl": "https://lh3.googleusercontent.com/a/default-user=s64",
      "userId": "16056252826196756543"
     },
     "user_tz": -330
    },
    "id": "1CzRnSUbYV2E"
   },
   "outputs": [],
   "source": [
    "import numpy as np\n",
    "import math\n",
    "from tqdm.notebook  import tqdm_notebook as tqdm\n",
    "import matplotlib.pyplot as plt\n",
    "%matplotlib inline"
   ]
  },
  {
   "cell_type": "code",
   "execution_count": 3,
   "metadata": {
    "executionInfo": {
     "elapsed": 3,
     "status": "ok",
     "timestamp": 1645012441417,
     "user": {
      "displayName": "Abhinav Gupta",
      "photoUrl": "https://lh3.googleusercontent.com/a/default-user=s64",
      "userId": "16056252826196756543"
     },
     "user_tz": -330
    },
    "id": "Q0fw2bTbYV2G"
   },
   "outputs": [],
   "source": [
    "rcut = 3.0  ##### Cut-off distance. If distance between atoms is greater than this, interaction between them is ignored.\n",
    "rcutsquare = rcut**2\n",
    "g2 = 1./rcutsquare\n",
    "g6 = g2*g2*g2\n",
    "potcut = 4.*g6*(g6-1) ##### Term to be subtracted from pair potential energy"
   ]
  },
  {
   "cell_type": "code",
   "execution_count": 4,
   "metadata": {
    "executionInfo": {
     "elapsed": 2,
     "status": "ok",
     "timestamp": 1645012443243,
     "user": {
      "displayName": "Abhinav Gupta",
      "photoUrl": "https://lh3.googleusercontent.com/a/default-user=s64",
      "userId": "16056252826196756543"
     },
     "user_tz": -330
    },
    "id": "i51VhivYYV2G"
   },
   "outputs": [],
   "source": [
    "##### Function to compute acceleration for a pair of atoms. r12 is relative displacement of atoms.\n",
    "\n",
    "def acceleration(r12): \n",
    "    r12square = np.dot(r12,r12)\n",
    "    f2 = 1./r12square\n",
    "    f6 = f2*f2*f2\n",
    "    acc = 48.*f2*f6*(f6-0.5)*r12\n",
    "    return acc\n"
   ]
  },
  {
   "cell_type": "code",
   "execution_count": 5,
   "metadata": {
    "executionInfo": {
     "elapsed": 2,
     "status": "ok",
     "timestamp": 1645012446176,
     "user": {
      "displayName": "Abhinav Gupta",
      "photoUrl": "https://lh3.googleusercontent.com/a/default-user=s64",
      "userId": "16056252826196756543"
     },
     "user_tz": -330
    },
    "id": "n8B7Y76QYV2H"
   },
   "outputs": [],
   "source": [
    "#### Function to compute potential energy for the system of particles. `pos' is the array of position vectors.\n",
    "def potentialenergy(pos):\n",
    "    potential = 0.\n",
    "    for i in range(Natoms-1): \n",
    "        for j in range(i+1,Natoms):\n",
    "            rij = pos[i] - pos[j] ## Relative position vector of the pair\n",
    "            for l in range(2):  ### Calculating the correct separation between particles because of periodic boundary conditions.\n",
    "                if abs(rij[l])>0.5*L: rij[l] -= L*np.sign(rij[l])\n",
    "            rijsquare = np.dot(rij,rij)\n",
    "            if rijsquare < rcutsquare: # Imposing interaction cut-off\n",
    "                f2 = 1./rijsquare\n",
    "                f6 = f2*f2*f2\n",
    "                potential += 4.*f6*(f6-1.) - potcut\n",
    "    return potential"
   ]
  },
  {
   "cell_type": "code",
   "execution_count": 20,
   "metadata": {},
   "outputs": [],
   "source": [
    "def create_picture(positions):\n",
    "    plt.cla()\n",
    "    plt.gca().set_aspect('equal')\n",
    "    plt.axis([0, L, 0, L])\n",
    "    plt.setp(plt.gca(), xticks=[0, L], yticks=[0, L])\n",
    "    for x,y in positions:\n",
    "        atom = plt.Circle((x, y), Ratom, fc='r')\n",
    "        plt.gca().add_patch(atom)"
   ]
  },
  {
   "cell_type": "code",
   "execution_count": 7,
   "metadata": {},
   "outputs": [],
   "source": [
    "def RDF(pos,length):\n",
    "    dist = [0 for i in range(length)]\n",
    "    for i in range(Natoms-1):\n",
    "        for j in range(i+1,Natoms):\n",
    "            rij = pos[i] - pos[j] ## Relative position vector of the pair\n",
    "            for l in range(2):  ### Calculating the correct separation between particles because of periodic boundary conditions.\n",
    "                if abs(rij[l])>0.5*L: rij[l] -= L*np.sign(rij[l])\n",
    "            rijsquare = np.dot(rij,rij)\n",
    "            r = np.sqrt(rijsquare)\n",
    "            nbin = math.floor(r/delta)\n",
    "            if nbin<= length - 1:\n",
    "                dist[nbin] += 1\n",
    "    for i in range(length):\n",
    "        r = delta*(i + 1/2)\n",
    "        dist[i] = dist[i]/(rho * 2* math.pi * r* delta)\n",
    "    dist = np.array(dist)\n",
    "    return dist"
   ]
  },
  {
   "cell_type": "code",
   "execution_count": 8,
   "metadata": {
    "executionInfo": {
     "elapsed": 643,
     "status": "ok",
     "timestamp": 1645012449259,
     "user": {
      "displayName": "Abhinav Gupta",
      "photoUrl": "https://lh3.googleusercontent.com/a/default-user=s64",
      "userId": "16056252826196756543"
     },
     "user_tz": -330
    },
    "id": "tT49TSmdYV2H"
   },
   "outputs": [],
   "source": [
    "number = 7\n",
    "Natoms = number**2  # No. of atoms\n",
    "Ratom = 0.35  ### Radius of atom used to illustrate the atom as a sphere.\n",
    "rho = 0.25 ### Number Density\n",
    "L = math.pow(Natoms/rho,0.5) # Length of a side of the square containing the gas.\n",
    "T0 = 120. # Natural temperature scale, T0 = epsilon/k.\n",
    "T = 2.6 # Desired temperature\n",
    "K0 = Natoms * T\n",
    "Treal = 1 #real tempearature in Kelvin\n",
    "dt = 1E-2  # Time step for Verlet Algorithm"
   ]
  },
  {
   "cell_type": "code",
   "execution_count": 9,
   "metadata": {},
   "outputs": [],
   "source": [
    "delta = 0.1\n",
    "length = int(0.5 * L/0.1)\n",
    "rho = Natoms/(L*L)"
   ]
  },
  {
   "cell_type": "code",
   "execution_count": 10,
   "metadata": {
    "executionInfo": {
     "elapsed": 396,
     "status": "ok",
     "timestamp": 1645012452289,
     "user": {
      "displayName": "Abhinav Gupta",
      "photoUrl": "https://lh3.googleusercontent.com/a/default-user=s64",
      "userId": "16056252826196756543"
     },
     "user_tz": -330
    },
    "id": "12feYni7YV2I"
   },
   "outputs": [
    {
     "name": "stdout",
     "output_type": "stream",
     "text": [
      "[0.01392233 0.01500487 0.01688391 0.01799339 0.0198083  0.01476628\n",
      " 0.01968406 0.0172114  0.01426288 0.01453843 0.01431321 0.01980139\n",
      " 0.01740748 0.01451211 0.01367871 0.017254   0.01795289 0.01823677\n",
      " 0.01386529 0.01984293 0.01514506 0.01762004 0.01372556 0.01371417\n",
      " 0.01438433 0.01947392 0.01629153 0.0137068  0.01828154 0.01381294\n",
      " 0.01439127 0.01905472 0.01473827 0.0165036  0.01725628 0.01752756\n",
      " 0.01561351 0.0198259  0.01896484 0.01993244 0.01761236 0.01409768\n",
      " 0.01405317 0.0186972  0.01989794 0.01752983 0.01836073 0.01374407\n",
      " 0.0145431 ]\n"
     ]
    }
   ],
   "source": [
    "###### Atoms are arranged initially in a square lattice configuration with spacing between neighbors equal to equilibrium separation of the potential energy.\n",
    "\n",
    "equilib_sep = math.pow(2.,1./6.)  ## Equilibrium separation of atoms\n",
    "wall_spacing = (L-(number-1)*equilib_sep)/2.  ## Distance betwee the walls and the initial array of atoms.\n",
    "poslist = []  # List for positions of atoms\n",
    "vlist = []   # List for velocities\n",
    "\n",
    "\n",
    "################  Initialize positions and velocities ##############################################\n",
    "x, y = wall_spacing, wall_spacing\n",
    "for i in range(number):\n",
    "    for j in range(number):\n",
    "        xi, yi = x + equilib_sep*i, y + equilib_sep*j\n",
    "        poslist.append((xi,yi))\n",
    "\n",
    "\n",
    "####### Initially, all particles have the same speed but random velocity directions. ################\n",
    "v0 = math.sqrt(2.*Treal/T0)\n",
    "\n",
    "for i in range(Natoms):\n",
    "    phi = 2*np.pi*np.random.random()\n",
    "    vx = v0*np.cos(phi)\n",
    "    vy = v0*np.sin(phi)\n",
    "    vlist.append((vx,vy))\n",
    "###################################################################################################\n",
    "\n",
    "\n",
    "\n",
    "\n",
    "pos = np.array(poslist)  ### Converts lists to numpy arrays\n",
    "v = np.array(vlist) ## Scaled velocity\n",
    "\n",
    "\n",
    "V_cm = np.sum(v, axis = 0)/Natoms ## Correcting for CM velocity.\n",
    "V = np.array([V_cm,]*Natoms)\n",
    "v -= V  \n",
    "\n",
    "print(np.square(v).sum(axis =1))"
   ]
  },
  {
   "cell_type": "code",
   "execution_count": 11,
   "metadata": {
    "executionInfo": {
     "elapsed": 377,
     "status": "ok",
     "timestamp": 1645012457936,
     "user": {
      "displayName": "Abhinav Gupta",
      "photoUrl": "https://lh3.googleusercontent.com/a/default-user=s64",
      "userId": "16056252826196756543"
     },
     "user_tz": -330
    },
    "id": "Xe2w1iR0YV2J"
   },
   "outputs": [],
   "source": [
    "time = 0. # Initial time.\n",
    "t_final = 50. # Time upto which simulation is carried out.\n",
    "\n",
    "potential_energy = potentialenergy(pos)\n",
    "kinetic_energy = 0.5*sum(np.square(v).sum(axis=1))\n",
    "energy = kinetic_energy + potential_energy\n",
    "Time_List = [time]\n",
    "Energy_List = [energy]\n",
    "PotentialEnergy_List = [potential_energy]\n",
    "KineticEnergy_List = [kinetic_energy/Natoms]\n",
    "\n",
    "###################rescaling KEs#############################\n",
    "avg_ke = kinetic_energy/Natoms\n",
    "lamb = (K0/kinetic_energy)**0.5\n",
    "v = v * lamb\n",
    "#############################################################\n",
    "iterations = int(t_final/dt) # Number of iterations of the Verlet Algorithm."
   ]
  },
  {
   "cell_type": "code",
   "execution_count": 12,
   "metadata": {
    "colab": {
     "base_uri": "https://localhost:8080/"
    },
    "executionInfo": {
     "elapsed": 22486,
     "status": "ok",
     "timestamp": 1645012483054,
     "user": {
      "displayName": "Abhinav Gupta",
      "photoUrl": "https://lh3.googleusercontent.com/a/default-user=s64",
      "userId": "16056252826196756543"
     },
     "user_tz": -330
    },
    "id": "dWLHWFPEYV2J",
    "outputId": "26f61300-d63b-4425-9b3d-beba394105e6"
   },
   "outputs": [
    {
     "data": {
      "application/vnd.jupyter.widget-view+json": {
       "model_id": "3c7ec9d40c5f44978f3b6779ce105cd1",
       "version_major": 2,
       "version_minor": 0
      },
      "text/plain": [
       "  0%|          | 0/5000 [00:00<?, ?it/s]"
      ]
     },
     "metadata": {},
     "output_type": "display_data"
    }
   ],
   "source": [
    "##################################### The Verlet Algorithm Loop ###################################\n",
    "pvels = []\n",
    "for step in tqdm(range(iterations)):\n",
    "    pos += v*dt/2. ## Updating positions.\n",
    "    for i in range(Natoms): ## Imposing periodic boundary conditions.\n",
    "        for j in range(2):\n",
    "            if pos[i][j] > L: pos[i][j] -= L\n",
    "            elif pos[i][j] < 0: pos[i][j] += L\n",
    "                \n",
    "                \n",
    "    accel = np.zeros((Natoms,2)) ## Initialising acceleration array.\n",
    "    for i in range(Natoms-1):\n",
    "        for j in range(i+1,Natoms):\n",
    "            rij = pos[i] - pos[j]\n",
    "            for l in range(2):  ### Calculating the correct separation between particles.\n",
    "                if abs(rij[l])>0.5*L: rij[l] -= L*np.sign(rij[l])\n",
    "            if np.dot(rij,rij) < rcutsquare:\n",
    "                acc = acceleration(rij) # Computing acceleration for a pair of particles.\n",
    "                accel[i] += acc\n",
    "                accel[j] -= acc\n",
    "    v += accel*dt  ## Updating velocities.\n",
    "    pos += v*dt/2. ## Final updating of positions.\n",
    "    for i in range(Natoms): ## Imposing periodic boundary conditions.\n",
    "        for j in range(2):\n",
    "            if pos[i][j] > L: pos[i][j] -= L\n",
    "            elif pos[i][j] < 0: pos[i][j] += L\n",
    "    potential_energy = potentialenergy(pos)\n",
    "    kinetic_energy = 0.5*sum(np.square(v).sum(axis=1))\n",
    "    KineticEnergy_List.append(kinetic_energy/Natoms)\n",
    "    energy = kinetic_energy + potential_energy\n",
    "    Energy_List.append(energy)\n",
    "    PotentialEnergy_List.append(potential_energy)\n",
    "    time += dt\n",
    "    Time_List.append(time)\n",
    "    #############################################################\n",
    "    if time >= 10.0:\n",
    "        pvel = np.square(v).sum(axis = 1)\n",
    "        pvel = pvel**0.5\n",
    "        #print(pvel)\n",
    "        pvels += pvel.tolist()\n",
    "    ###################rescaling KEs#############################\n",
    "    lamb = np.sqrt(K0/kinetic_energy)\n",
    "    v = v * lamb   "
   ]
  },
  {
   "cell_type": "code",
   "execution_count": 13,
   "metadata": {
    "colab": {
     "base_uri": "https://localhost:8080/",
     "height": 313
    },
    "executionInfo": {
     "elapsed": 918,
     "status": "ok",
     "timestamp": 1645012528164,
     "user": {
      "displayName": "Abhinav Gupta",
      "photoUrl": "https://lh3.googleusercontent.com/a/default-user=s64",
      "userId": "16056252826196756543"
     },
     "user_tz": -330
    },
    "id": "KAw-BSVGYV2K",
    "outputId": "29d979c7-e833-46a0-97f5-b4aaca1641a6"
   },
   "outputs": [
    {
     "data": {
      "text/plain": [
       "[<matplotlib.lines.Line2D at 0x2512133a580>]"
      ]
     },
     "execution_count": 13,
     "metadata": {},
     "output_type": "execute_result"
    },
    {
     "data": {
      "image/png": "[encoded data removed]",
      "text/plain": [
       "<Figure size 432x288 with 1 Axes>"
      ]
     },
     "metadata": {
      "needs_background": "light"
     },
     "output_type": "display_data"
    }
   ],
   "source": [
    "plt.xlabel('t') # Label for the x-axis\n",
    "plt.ylabel('Energy') # Label for the y-axis\n",
    "plt.title('Energy vs Time') # Title of plot\n",
    "#plt.plot(Time_List,Energy_List, color = 'r') \n",
    "#plt.plot(Time_List,PotentialEnergy_List, color = 'b')\n",
    "plt.plot(Time_List,KineticEnergy_List, color = 'g')"
   ]
  },
  {
   "cell_type": "code",
   "execution_count": 14,
   "metadata": {
    "id": "CcZlX78AYoh5"
   },
   "outputs": [
    {
     "data": {
      "image/png": "[encoded data removed]",
      "text/plain": [
       "<Figure size 432x288 with 1 Axes>"
      ]
     },
     "metadata": {
      "needs_background": "light"
     },
     "output_type": "display_data"
    }
   ],
   "source": [
    "n_bins = 50\n",
    "plt.hist(pvels, bins = n_bins, density=True, color='teal', edgecolor='grey');"
   ]
  },
  {
   "cell_type": "code",
   "execution_count": 15,
   "metadata": {},
   "outputs": [
    {
     "data": {
      "image/png": "[encoded data removed]",
      "text/plain": [
       "<Figure size 432x288 with 1 Axes>"
      ]
     },
     "metadata": {
      "needs_background": "light"
     },
     "output_type": "display_data"
    }
   ],
   "source": [
    "create_picture(pos)"
   ]
  },
  {
   "cell_type": "code",
   "execution_count": 16,
   "metadata": {},
   "outputs": [
    {
     "data": {
      "application/vnd.jupyter.widget-view+json": {
       "model_id": "9eedc508d6074fff8a442d3198afd418",
       "version_major": 2,
       "version_minor": 0
      },
      "text/plain": [
       "  0%|          | 0/20000 [00:00<?, ?it/s]"
      ]
     },
     "metadata": {},
     "output_type": "display_data"
    }
   ],
   "source": [
    "time = 0. # Initial time.\n",
    "t_final = 200. # Time upto which simulation is carried out.\n",
    "dt = 1E-2\n",
    "iterations = int(t_final/dt) # Number of iterations of the Verlet Algorithm.\n",
    "samples = 0\n",
    "dist = [0 for i in range(length)]\n",
    "dist = np.array(dist)\n",
    "\n",
    "for step in tqdm(range(iterations)):\n",
    "    pos += v*dt/2. ## Updating positions.\n",
    "    for i in range(Natoms): ## Imposing periodic boundary conditions.\n",
    "        for j in range(2):\n",
    "            if pos[i][j] > L: pos[i][j] -= L\n",
    "            elif pos[i][j] < 0: pos[i][j] += L\n",
    "                \n",
    "                \n",
    "    accel = np.zeros((Natoms,2)) ## Initialising acceleration array.\n",
    "    for i in range(Natoms-1):\n",
    "        for j in range(i+1,Natoms):\n",
    "            rij = pos[i] - pos[j]\n",
    "            for l in range(2):  ### Calculating the correct separation between particles.\n",
    "                if abs(rij[l])>0.5*L: rij[l] -= L*np.sign(rij[l])\n",
    "            if np.dot(rij,rij) < rcutsquare:\n",
    "                acc = acceleration(rij) # Computing acceleration for a pair of particles.\n",
    "                accel[i] += acc\n",
    "                accel[j] -= acc\n",
    "    v += accel*dt  ## Updating velocities.\n",
    "    pos += v*dt/2. ## Final updating of positions.\n",
    "    for i in range(Natoms): ## Imposing periodic boundary conditions.\n",
    "        for j in range(2):\n",
    "            if pos[i][j] > L: pos[i][j] -= L\n",
    "            elif pos[i][j] < 0: pos[i][j] += L\n",
    "    potential_energy = potentialenergy(pos)\n",
    "    kinetic_energy = 0.5*sum(np.square(v).sum(axis=1))\n",
    "    KineticEnergy_List.append(kinetic_energy/Natoms)\n",
    "    energy = kinetic_energy + potential_energy\n",
    "    Energy_List.append(energy)\n",
    "    PotentialEnergy_List.append(potential_energy)\n",
    "    time += dt\n",
    "    Time_List.append(time)\n",
    "    if time > 100.0:\n",
    "        if step%10 == 0:\n",
    "            samples+= 1\n",
    "            dist1 = RDF(pos,length)\n",
    "            dist = dist + dist1\n"
   ]
  },
  {
   "cell_type": "code",
   "execution_count": 17,
   "metadata": {},
   "outputs": [],
   "source": [
    "dist = dist/samples\n",
    "lengths = [(i + 1/2)*delta for i in range(length)]"
   ]
  },
  {
   "cell_type": "code",
   "execution_count": 18,
   "metadata": {},
   "outputs": [
    {
     "data": {
      "text/plain": [
       "<matplotlib.legend.Legend at 0x25121518c10>"
      ]
     },
     "execution_count": 18,
     "metadata": {},
     "output_type": "execute_result"
    },
    {
     "data": {
      "image/png": "[encoded data removed]",
      "text/plain": [
       "<Figure size 432x288 with 1 Axes>"
      ]
     },
     "metadata": {
      "needs_background": "light"
     },
     "output_type": "display_data"
    }
   ],
   "source": [
    "plt.plot(lengths, dist, color = 'g', label = 'gas')\n",
    "plt.legend()"
   ]
  },
  {
   "cell_type": "code",
   "execution_count": 19,
   "metadata": {},
   "outputs": [
    {
     "data": {
      "text/plain": [
       "<matplotlib.legend.Legend at 0x2512180c580>"
      ]
     },
     "execution_count": 19,
     "metadata": {},
     "output_type": "execute_result"
    },
    {
     "data": {
      "image/png": "[encoded data removed]",
      "text/plain": [
       "<Figure size 432x288 with 1 Axes>"
      ]
     },
     "metadata": {
      "needs_background": "light"
     },
     "output_type": "display_data"
    }
   ],
   "source": [
    "plt.plot(lengths, dist, color = 'g', label = 'gas')\n",
    "plt.legend()"
   ]
  },
  {
   "cell_type": "code",
   "execution_count": null,
   "metadata": {},
   "outputs": [],
   "source": []
  }
 ],
 "metadata": {
  "colab": {
   "name": "Lennard_Jones_Fluid.ipynb",
   "provenance": []
  },
  "kernelspec": {
   "display_name": "Python 3 (ipykernel)",
   "language": "python",
   "name": "python3"
  },
  "language_info": {
   "codemirror_mode": {
    "name": "ipython",
    "version": 3
   },
   "file_extension": ".py",
   "mimetype": "text/x-python",
   "name": "python",
   "nbconvert_exporter": "python",
   "pygments_lexer": "ipython3",
   "version": "3.9.12"
  }
 },
 "nbformat": 4,
 "nbformat_minor": 1
}
